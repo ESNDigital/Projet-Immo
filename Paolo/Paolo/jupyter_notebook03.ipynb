{
 "cells": [
  {
   "cell_type": "markdown",
   "id": "703a1889",
   "metadata": {},
   "source": [
    "# Projet immobilier"
   ]
  },
  {
   "cell_type": "markdown",
   "id": "a8fb159d",
   "metadata": {},
   "source": [
    "## Reduction dataset"
   ]
  },
  {
   "cell_type": "code",
   "execution_count": 10,
   "id": "d9a3dc4e",
   "metadata": {},
   "outputs": [],
   "source": [
    "import pandas as pd"
   ]
  },
  {
   "cell_type": "code",
   "execution_count": 11,
   "id": "b6afad67",
   "metadata": {},
   "outputs": [],
   "source": [
    "full_df = pd.read_csv(r\"train.csv\")"
   ]
  },
  {
   "cell_type": "code",
   "execution_count": 17,
   "id": "740bfc5e",
   "metadata": {},
   "outputs": [],
   "source": [
    "house_column = [\"YearBuilt\",\"BedroomAbvGr\",\"TotalBsmtSF\",\"GrLivArea\",\"1stFlrSF\",\"2ndFlrSF\",\"OverallCond\",\"KitchenQual\",\"GarageCond\",\"Neighborhood\"]\n",
    "sale_column = [\"MoSold\",\"YrSold\",\"SalePrice\"]\n",
    "property_column = [\"LotArea\",\"Utilities\"]"
   ]
  },
  {
   "cell_type": "code",
   "execution_count": 33,
   "id": "2a1b3ffc",
   "metadata": {},
   "outputs": [],
   "source": [
    "house_df = full_df[[x for x in full_df.columns if x in house_column]]\n",
    "sale_df = full_df[[x for x in full_df.columns if x in sale_column]]\n",
    "property_df = full_df[[x for x in full_df.columns if x in property_column]]"
   ]
  },
  {
   "cell_type": "code",
   "execution_count": 34,
   "id": "835b4e49",
   "metadata": {},
   "outputs": [
    {
     "data": {
      "text/html": [
       "<div>\n",
       "<style scoped>\n",
       "    .dataframe tbody tr th:only-of-type {\n",
       "        vertical-align: middle;\n",
       "    }\n",
       "\n",
       "    .dataframe tbody tr th {\n",
       "        vertical-align: top;\n",
       "    }\n",
       "\n",
       "    .dataframe thead th {\n",
       "        text-align: right;\n",
       "    }\n",
       "</style>\n",
       "<table border=\"1\" class=\"dataframe\">\n",
       "  <thead>\n",
       "    <tr style=\"text-align: right;\">\n",
       "      <th></th>\n",
       "      <th>Neighborhood</th>\n",
       "      <th>OverallCond</th>\n",
       "      <th>YearBuilt</th>\n",
       "      <th>TotalBsmtSF</th>\n",
       "      <th>1stFlrSF</th>\n",
       "      <th>2ndFlrSF</th>\n",
       "      <th>GrLivArea</th>\n",
       "      <th>BedroomAbvGr</th>\n",
       "      <th>KitchenQual</th>\n",
       "      <th>GarageCond</th>\n",
       "    </tr>\n",
       "  </thead>\n",
       "  <tbody>\n",
       "    <tr>\n",
       "      <th>0</th>\n",
       "      <td>CollgCr</td>\n",
       "      <td>5</td>\n",
       "      <td>2003</td>\n",
       "      <td>856</td>\n",
       "      <td>856</td>\n",
       "      <td>854</td>\n",
       "      <td>1710</td>\n",
       "      <td>3</td>\n",
       "      <td>Gd</td>\n",
       "      <td>TA</td>\n",
       "    </tr>\n",
       "    <tr>\n",
       "      <th>1</th>\n",
       "      <td>Veenker</td>\n",
       "      <td>8</td>\n",
       "      <td>1976</td>\n",
       "      <td>1262</td>\n",
       "      <td>1262</td>\n",
       "      <td>0</td>\n",
       "      <td>1262</td>\n",
       "      <td>3</td>\n",
       "      <td>TA</td>\n",
       "      <td>TA</td>\n",
       "    </tr>\n",
       "    <tr>\n",
       "      <th>2</th>\n",
       "      <td>CollgCr</td>\n",
       "      <td>5</td>\n",
       "      <td>2001</td>\n",
       "      <td>920</td>\n",
       "      <td>920</td>\n",
       "      <td>866</td>\n",
       "      <td>1786</td>\n",
       "      <td>3</td>\n",
       "      <td>Gd</td>\n",
       "      <td>TA</td>\n",
       "    </tr>\n",
       "    <tr>\n",
       "      <th>3</th>\n",
       "      <td>Crawfor</td>\n",
       "      <td>5</td>\n",
       "      <td>1915</td>\n",
       "      <td>756</td>\n",
       "      <td>961</td>\n",
       "      <td>756</td>\n",
       "      <td>1717</td>\n",
       "      <td>3</td>\n",
       "      <td>Gd</td>\n",
       "      <td>TA</td>\n",
       "    </tr>\n",
       "    <tr>\n",
       "      <th>4</th>\n",
       "      <td>NoRidge</td>\n",
       "      <td>5</td>\n",
       "      <td>2000</td>\n",
       "      <td>1145</td>\n",
       "      <td>1145</td>\n",
       "      <td>1053</td>\n",
       "      <td>2198</td>\n",
       "      <td>4</td>\n",
       "      <td>Gd</td>\n",
       "      <td>TA</td>\n",
       "    </tr>\n",
       "  </tbody>\n",
       "</table>\n",
       "</div>"
      ],
      "text/plain": [
       "  Neighborhood  OverallCond  YearBuilt  TotalBsmtSF  1stFlrSF  2ndFlrSF  \\\n",
       "0      CollgCr            5       2003          856       856       854   \n",
       "1      Veenker            8       1976         1262      1262         0   \n",
       "2      CollgCr            5       2001          920       920       866   \n",
       "3      Crawfor            5       1915          756       961       756   \n",
       "4      NoRidge            5       2000         1145      1145      1053   \n",
       "\n",
       "   GrLivArea  BedroomAbvGr KitchenQual GarageCond  \n",
       "0       1710             3          Gd         TA  \n",
       "1       1262             3          TA         TA  \n",
       "2       1786             3          Gd         TA  \n",
       "3       1717             3          Gd         TA  \n",
       "4       2198             4          Gd         TA  "
      ]
     },
     "execution_count": 34,
     "metadata": {},
     "output_type": "execute_result"
    }
   ],
   "source": [
    "house_df.head()"
   ]
  },
  {
   "cell_type": "code",
   "execution_count": 48,
   "id": "2ad1b6fa",
   "metadata": {},
   "outputs": [
    {
     "data": {
      "text/html": [
       "<div>\n",
       "<style scoped>\n",
       "    .dataframe tbody tr th:only-of-type {\n",
       "        vertical-align: middle;\n",
       "    }\n",
       "\n",
       "    .dataframe tbody tr th {\n",
       "        vertical-align: top;\n",
       "    }\n",
       "\n",
       "    .dataframe thead th {\n",
       "        text-align: right;\n",
       "    }\n",
       "</style>\n",
       "<table border=\"1\" class=\"dataframe\">\n",
       "  <thead>\n",
       "    <tr style=\"text-align: right;\">\n",
       "      <th></th>\n",
       "      <th>HouseID</th>\n",
       "      <th>Neighborhood</th>\n",
       "      <th>OverallCond</th>\n",
       "      <th>YearBuilt</th>\n",
       "      <th>TotalBsmtSF</th>\n",
       "      <th>FirstFlrSF</th>\n",
       "      <th>SecondFlrSF</th>\n",
       "      <th>GrLivArea</th>\n",
       "      <th>BedroomAbvGr</th>\n",
       "      <th>KitchenQual</th>\n",
       "      <th>GarageCond</th>\n",
       "    </tr>\n",
       "  </thead>\n",
       "  <tbody>\n",
       "    <tr>\n",
       "      <th>0</th>\n",
       "      <td>H00001</td>\n",
       "      <td>CollgCr</td>\n",
       "      <td>5</td>\n",
       "      <td>2003</td>\n",
       "      <td>856</td>\n",
       "      <td>856</td>\n",
       "      <td>854</td>\n",
       "      <td>1710</td>\n",
       "      <td>3</td>\n",
       "      <td>Gd</td>\n",
       "      <td>TA</td>\n",
       "    </tr>\n",
       "    <tr>\n",
       "      <th>1</th>\n",
       "      <td>H00002</td>\n",
       "      <td>Veenker</td>\n",
       "      <td>8</td>\n",
       "      <td>1976</td>\n",
       "      <td>1262</td>\n",
       "      <td>1262</td>\n",
       "      <td>0</td>\n",
       "      <td>1262</td>\n",
       "      <td>3</td>\n",
       "      <td>TA</td>\n",
       "      <td>TA</td>\n",
       "    </tr>\n",
       "    <tr>\n",
       "      <th>2</th>\n",
       "      <td>H00003</td>\n",
       "      <td>CollgCr</td>\n",
       "      <td>5</td>\n",
       "      <td>2001</td>\n",
       "      <td>920</td>\n",
       "      <td>920</td>\n",
       "      <td>866</td>\n",
       "      <td>1786</td>\n",
       "      <td>3</td>\n",
       "      <td>Gd</td>\n",
       "      <td>TA</td>\n",
       "    </tr>\n",
       "    <tr>\n",
       "      <th>3</th>\n",
       "      <td>H00004</td>\n",
       "      <td>Crawfor</td>\n",
       "      <td>5</td>\n",
       "      <td>1915</td>\n",
       "      <td>756</td>\n",
       "      <td>961</td>\n",
       "      <td>756</td>\n",
       "      <td>1717</td>\n",
       "      <td>3</td>\n",
       "      <td>Gd</td>\n",
       "      <td>TA</td>\n",
       "    </tr>\n",
       "    <tr>\n",
       "      <th>4</th>\n",
       "      <td>H00005</td>\n",
       "      <td>NoRidge</td>\n",
       "      <td>5</td>\n",
       "      <td>2000</td>\n",
       "      <td>1145</td>\n",
       "      <td>1145</td>\n",
       "      <td>1053</td>\n",
       "      <td>2198</td>\n",
       "      <td>4</td>\n",
       "      <td>Gd</td>\n",
       "      <td>TA</td>\n",
       "    </tr>\n",
       "    <tr>\n",
       "      <th>...</th>\n",
       "      <td>...</td>\n",
       "      <td>...</td>\n",
       "      <td>...</td>\n",
       "      <td>...</td>\n",
       "      <td>...</td>\n",
       "      <td>...</td>\n",
       "      <td>...</td>\n",
       "      <td>...</td>\n",
       "      <td>...</td>\n",
       "      <td>...</td>\n",
       "      <td>...</td>\n",
       "    </tr>\n",
       "    <tr>\n",
       "      <th>1455</th>\n",
       "      <td>H01456</td>\n",
       "      <td>Gilbert</td>\n",
       "      <td>5</td>\n",
       "      <td>1999</td>\n",
       "      <td>953</td>\n",
       "      <td>953</td>\n",
       "      <td>694</td>\n",
       "      <td>1647</td>\n",
       "      <td>3</td>\n",
       "      <td>TA</td>\n",
       "      <td>TA</td>\n",
       "    </tr>\n",
       "    <tr>\n",
       "      <th>1456</th>\n",
       "      <td>H01457</td>\n",
       "      <td>NWAmes</td>\n",
       "      <td>6</td>\n",
       "      <td>1978</td>\n",
       "      <td>1542</td>\n",
       "      <td>2073</td>\n",
       "      <td>0</td>\n",
       "      <td>2073</td>\n",
       "      <td>3</td>\n",
       "      <td>TA</td>\n",
       "      <td>TA</td>\n",
       "    </tr>\n",
       "    <tr>\n",
       "      <th>1457</th>\n",
       "      <td>H01458</td>\n",
       "      <td>Crawfor</td>\n",
       "      <td>9</td>\n",
       "      <td>1941</td>\n",
       "      <td>1152</td>\n",
       "      <td>1188</td>\n",
       "      <td>1152</td>\n",
       "      <td>2340</td>\n",
       "      <td>4</td>\n",
       "      <td>Gd</td>\n",
       "      <td>TA</td>\n",
       "    </tr>\n",
       "    <tr>\n",
       "      <th>1458</th>\n",
       "      <td>H01459</td>\n",
       "      <td>NAmes</td>\n",
       "      <td>6</td>\n",
       "      <td>1950</td>\n",
       "      <td>1078</td>\n",
       "      <td>1078</td>\n",
       "      <td>0</td>\n",
       "      <td>1078</td>\n",
       "      <td>2</td>\n",
       "      <td>Gd</td>\n",
       "      <td>TA</td>\n",
       "    </tr>\n",
       "    <tr>\n",
       "      <th>1459</th>\n",
       "      <td>H01460</td>\n",
       "      <td>Edwards</td>\n",
       "      <td>6</td>\n",
       "      <td>1965</td>\n",
       "      <td>1256</td>\n",
       "      <td>1256</td>\n",
       "      <td>0</td>\n",
       "      <td>1256</td>\n",
       "      <td>3</td>\n",
       "      <td>TA</td>\n",
       "      <td>TA</td>\n",
       "    </tr>\n",
       "  </tbody>\n",
       "</table>\n",
       "<p>1460 rows × 11 columns</p>\n",
       "</div>"
      ],
      "text/plain": [
       "     HouseID Neighborhood  OverallCond  YearBuilt  TotalBsmtSF  FirstFlrSF  \\\n",
       "0     H00001      CollgCr            5       2003          856         856   \n",
       "1     H00002      Veenker            8       1976         1262        1262   \n",
       "2     H00003      CollgCr            5       2001          920         920   \n",
       "3     H00004      Crawfor            5       1915          756         961   \n",
       "4     H00005      NoRidge            5       2000         1145        1145   \n",
       "...      ...          ...          ...        ...          ...         ...   \n",
       "1455  H01456      Gilbert            5       1999          953         953   \n",
       "1456  H01457       NWAmes            6       1978         1542        2073   \n",
       "1457  H01458      Crawfor            9       1941         1152        1188   \n",
       "1458  H01459        NAmes            6       1950         1078        1078   \n",
       "1459  H01460      Edwards            6       1965         1256        1256   \n",
       "\n",
       "      SecondFlrSF  GrLivArea  BedroomAbvGr KitchenQual GarageCond  \n",
       "0             854       1710             3          Gd         TA  \n",
       "1               0       1262             3          TA         TA  \n",
       "2             866       1786             3          Gd         TA  \n",
       "3             756       1717             3          Gd         TA  \n",
       "4            1053       2198             4          Gd         TA  \n",
       "...           ...        ...           ...         ...        ...  \n",
       "1455          694       1647             3          TA         TA  \n",
       "1456            0       2073             3          TA         TA  \n",
       "1457         1152       2340             4          Gd         TA  \n",
       "1458            0       1078             2          Gd         TA  \n",
       "1459            0       1256             3          TA         TA  \n",
       "\n",
       "[1460 rows x 11 columns]"
      ]
     },
     "execution_count": 48,
     "metadata": {},
     "output_type": "execute_result"
    }
   ],
   "source": [
    "house_df.rename(columns={\"1stFlrSF\": \"FirstFlrSF\", \"2ndFlrSF\": \"SecondFlrSF\"}, inplace= False)"
   ]
  },
  {
   "cell_type": "code",
   "execution_count": 49,
   "id": "b4fbe98c",
   "metadata": {},
   "outputs": [],
   "source": [
    "house_df.insert(0,\"HouseID\",[\"H\"+\"0\"*(5-len(str((i))))+ str(i) for i in range(1,1460+1)],True)"
   ]
  },
  {
   "cell_type": "code",
   "execution_count": 50,
   "id": "009a968d",
   "metadata": {},
   "outputs": [
    {
     "data": {
      "text/html": [
       "<div>\n",
       "<style scoped>\n",
       "    .dataframe tbody tr th:only-of-type {\n",
       "        vertical-align: middle;\n",
       "    }\n",
       "\n",
       "    .dataframe tbody tr th {\n",
       "        vertical-align: top;\n",
       "    }\n",
       "\n",
       "    .dataframe thead th {\n",
       "        text-align: right;\n",
       "    }\n",
       "</style>\n",
       "<table border=\"1\" class=\"dataframe\">\n",
       "  <thead>\n",
       "    <tr style=\"text-align: right;\">\n",
       "      <th></th>\n",
       "      <th>HouseID</th>\n",
       "      <th>HouseID</th>\n",
       "      <th>Neighborhood</th>\n",
       "      <th>OverallCond</th>\n",
       "      <th>YearBuilt</th>\n",
       "      <th>TotalBsmtSF</th>\n",
       "      <th>FirstFlrSF</th>\n",
       "      <th>SecondFlrSF</th>\n",
       "      <th>GrLivArea</th>\n",
       "      <th>BedroomAbvGr</th>\n",
       "      <th>KitchenQual</th>\n",
       "      <th>GarageCond</th>\n",
       "    </tr>\n",
       "  </thead>\n",
       "  <tbody>\n",
       "    <tr>\n",
       "      <th>0</th>\n",
       "      <td>H00001</td>\n",
       "      <td>H00001</td>\n",
       "      <td>CollgCr</td>\n",
       "      <td>5</td>\n",
       "      <td>2003</td>\n",
       "      <td>856</td>\n",
       "      <td>856</td>\n",
       "      <td>854</td>\n",
       "      <td>1710</td>\n",
       "      <td>3</td>\n",
       "      <td>Gd</td>\n",
       "      <td>TA</td>\n",
       "    </tr>\n",
       "    <tr>\n",
       "      <th>1</th>\n",
       "      <td>H00002</td>\n",
       "      <td>H00002</td>\n",
       "      <td>Veenker</td>\n",
       "      <td>8</td>\n",
       "      <td>1976</td>\n",
       "      <td>1262</td>\n",
       "      <td>1262</td>\n",
       "      <td>0</td>\n",
       "      <td>1262</td>\n",
       "      <td>3</td>\n",
       "      <td>TA</td>\n",
       "      <td>TA</td>\n",
       "    </tr>\n",
       "    <tr>\n",
       "      <th>2</th>\n",
       "      <td>H00003</td>\n",
       "      <td>H00003</td>\n",
       "      <td>CollgCr</td>\n",
       "      <td>5</td>\n",
       "      <td>2001</td>\n",
       "      <td>920</td>\n",
       "      <td>920</td>\n",
       "      <td>866</td>\n",
       "      <td>1786</td>\n",
       "      <td>3</td>\n",
       "      <td>Gd</td>\n",
       "      <td>TA</td>\n",
       "    </tr>\n",
       "    <tr>\n",
       "      <th>3</th>\n",
       "      <td>H00004</td>\n",
       "      <td>H00004</td>\n",
       "      <td>Crawfor</td>\n",
       "      <td>5</td>\n",
       "      <td>1915</td>\n",
       "      <td>756</td>\n",
       "      <td>961</td>\n",
       "      <td>756</td>\n",
       "      <td>1717</td>\n",
       "      <td>3</td>\n",
       "      <td>Gd</td>\n",
       "      <td>TA</td>\n",
       "    </tr>\n",
       "    <tr>\n",
       "      <th>4</th>\n",
       "      <td>H00005</td>\n",
       "      <td>H00005</td>\n",
       "      <td>NoRidge</td>\n",
       "      <td>5</td>\n",
       "      <td>2000</td>\n",
       "      <td>1145</td>\n",
       "      <td>1145</td>\n",
       "      <td>1053</td>\n",
       "      <td>2198</td>\n",
       "      <td>4</td>\n",
       "      <td>Gd</td>\n",
       "      <td>TA</td>\n",
       "    </tr>\n",
       "  </tbody>\n",
       "</table>\n",
       "</div>"
      ],
      "text/plain": [
       "  HouseID HouseID Neighborhood  OverallCond  YearBuilt  TotalBsmtSF  \\\n",
       "0  H00001  H00001      CollgCr            5       2003          856   \n",
       "1  H00002  H00002      Veenker            8       1976         1262   \n",
       "2  H00003  H00003      CollgCr            5       2001          920   \n",
       "3  H00004  H00004      Crawfor            5       1915          756   \n",
       "4  H00005  H00005      NoRidge            5       2000         1145   \n",
       "\n",
       "   FirstFlrSF  SecondFlrSF  GrLivArea  BedroomAbvGr KitchenQual GarageCond  \n",
       "0         856          854       1710             3          Gd         TA  \n",
       "1        1262            0       1262             3          TA         TA  \n",
       "2         920          866       1786             3          Gd         TA  \n",
       "3         961          756       1717             3          Gd         TA  \n",
       "4        1145         1053       2198             4          Gd         TA  "
      ]
     },
     "execution_count": 50,
     "metadata": {},
     "output_type": "execute_result"
    }
   ],
   "source": [
    "house_df.head()"
   ]
  },
  {
   "cell_type": "code",
   "execution_count": 37,
   "id": "85b2fa40",
   "metadata": {},
   "outputs": [],
   "source": [
    "house_df.to_csv(r\"house.csv\", index=False)"
   ]
  },
  {
   "cell_type": "code",
   "execution_count": 38,
   "id": "0bc87db5",
   "metadata": {},
   "outputs": [],
   "source": [
    "sale_df.insert(0,\"SaleID\",[\"S\"+\"0\"*(5-len(str((i))))+ str(i)for i in range(1,1460+1)],True)"
   ]
  },
  {
   "cell_type": "code",
   "execution_count": 39,
   "id": "ba38f4aa",
   "metadata": {},
   "outputs": [
    {
     "data": {
      "text/html": [
       "<div>\n",
       "<style scoped>\n",
       "    .dataframe tbody tr th:only-of-type {\n",
       "        vertical-align: middle;\n",
       "    }\n",
       "\n",
       "    .dataframe tbody tr th {\n",
       "        vertical-align: top;\n",
       "    }\n",
       "\n",
       "    .dataframe thead th {\n",
       "        text-align: right;\n",
       "    }\n",
       "</style>\n",
       "<table border=\"1\" class=\"dataframe\">\n",
       "  <thead>\n",
       "    <tr style=\"text-align: right;\">\n",
       "      <th></th>\n",
       "      <th>SaleID</th>\n",
       "      <th>MoSold</th>\n",
       "      <th>YrSold</th>\n",
       "      <th>SalePrice</th>\n",
       "    </tr>\n",
       "  </thead>\n",
       "  <tbody>\n",
       "    <tr>\n",
       "      <th>0</th>\n",
       "      <td>S00001</td>\n",
       "      <td>2</td>\n",
       "      <td>2008</td>\n",
       "      <td>208500</td>\n",
       "    </tr>\n",
       "    <tr>\n",
       "      <th>1</th>\n",
       "      <td>S00002</td>\n",
       "      <td>5</td>\n",
       "      <td>2007</td>\n",
       "      <td>181500</td>\n",
       "    </tr>\n",
       "    <tr>\n",
       "      <th>2</th>\n",
       "      <td>S00003</td>\n",
       "      <td>9</td>\n",
       "      <td>2008</td>\n",
       "      <td>223500</td>\n",
       "    </tr>\n",
       "    <tr>\n",
       "      <th>3</th>\n",
       "      <td>S00004</td>\n",
       "      <td>2</td>\n",
       "      <td>2006</td>\n",
       "      <td>140000</td>\n",
       "    </tr>\n",
       "    <tr>\n",
       "      <th>4</th>\n",
       "      <td>S00005</td>\n",
       "      <td>12</td>\n",
       "      <td>2008</td>\n",
       "      <td>250000</td>\n",
       "    </tr>\n",
       "  </tbody>\n",
       "</table>\n",
       "</div>"
      ],
      "text/plain": [
       "   SaleID  MoSold  YrSold  SalePrice\n",
       "0  S00001       2    2008     208500\n",
       "1  S00002       5    2007     181500\n",
       "2  S00003       9    2008     223500\n",
       "3  S00004       2    2006     140000\n",
       "4  S00005      12    2008     250000"
      ]
     },
     "execution_count": 39,
     "metadata": {},
     "output_type": "execute_result"
    }
   ],
   "source": [
    "sale_df.head()"
   ]
  },
  {
   "cell_type": "code",
   "execution_count": 40,
   "id": "933c80aa",
   "metadata": {},
   "outputs": [],
   "source": [
    "sale_df.to_csv(r\"sale.csv\", index=False)"
   ]
  },
  {
   "cell_type": "code",
   "execution_count": 41,
   "id": "7e76f57e",
   "metadata": {},
   "outputs": [],
   "source": [
    "property_df.insert(0,\"PropertyID\",[\"P\"+\"0\"*(5-len(str((i))))+ str(i) for i in range(1,1460+1)],True)"
   ]
  },
  {
   "cell_type": "code",
   "execution_count": 42,
   "id": "53fdc3e6",
   "metadata": {},
   "outputs": [
    {
     "data": {
      "text/html": [
       "<div>\n",
       "<style scoped>\n",
       "    .dataframe tbody tr th:only-of-type {\n",
       "        vertical-align: middle;\n",
       "    }\n",
       "\n",
       "    .dataframe tbody tr th {\n",
       "        vertical-align: top;\n",
       "    }\n",
       "\n",
       "    .dataframe thead th {\n",
       "        text-align: right;\n",
       "    }\n",
       "</style>\n",
       "<table border=\"1\" class=\"dataframe\">\n",
       "  <thead>\n",
       "    <tr style=\"text-align: right;\">\n",
       "      <th></th>\n",
       "      <th>PropertyID</th>\n",
       "      <th>LotArea</th>\n",
       "      <th>Utilities</th>\n",
       "    </tr>\n",
       "  </thead>\n",
       "  <tbody>\n",
       "    <tr>\n",
       "      <th>0</th>\n",
       "      <td>P00001</td>\n",
       "      <td>8450</td>\n",
       "      <td>AllPub</td>\n",
       "    </tr>\n",
       "    <tr>\n",
       "      <th>1</th>\n",
       "      <td>P00002</td>\n",
       "      <td>9600</td>\n",
       "      <td>AllPub</td>\n",
       "    </tr>\n",
       "    <tr>\n",
       "      <th>2</th>\n",
       "      <td>P00003</td>\n",
       "      <td>11250</td>\n",
       "      <td>AllPub</td>\n",
       "    </tr>\n",
       "    <tr>\n",
       "      <th>3</th>\n",
       "      <td>P00004</td>\n",
       "      <td>9550</td>\n",
       "      <td>AllPub</td>\n",
       "    </tr>\n",
       "    <tr>\n",
       "      <th>4</th>\n",
       "      <td>P00005</td>\n",
       "      <td>14260</td>\n",
       "      <td>AllPub</td>\n",
       "    </tr>\n",
       "  </tbody>\n",
       "</table>\n",
       "</div>"
      ],
      "text/plain": [
       "  PropertyID  LotArea Utilities\n",
       "0     P00001     8450    AllPub\n",
       "1     P00002     9600    AllPub\n",
       "2     P00003    11250    AllPub\n",
       "3     P00004     9550    AllPub\n",
       "4     P00005    14260    AllPub"
      ]
     },
     "execution_count": 42,
     "metadata": {},
     "output_type": "execute_result"
    }
   ],
   "source": [
    "property_df.head()"
   ]
  },
  {
   "cell_type": "code",
   "execution_count": 43,
   "id": "360ace67",
   "metadata": {},
   "outputs": [],
   "source": [
    "property_df.to_csv(r\"property.csv\", index=False)"
   ]
  },
  {
   "cell_type": "markdown",
   "id": "b88d7542",
   "metadata": {},
   "source": [
    "## Utiliser sql dans un notebook"
   ]
  },
  {
   "cell_type": "code",
   "execution_count": 4,
   "id": "35647bea",
   "metadata": {},
   "outputs": [
    {
     "name": "stdout",
     "output_type": "stream",
     "text": [
      "The sql extension is already loaded. To reload it, use:\n",
      "  %reload_ext sql\n"
     ]
    }
   ],
   "source": [
    "%load_ext sql"
   ]
  },
  {
   "cell_type": "code",
   "execution_count": null,
   "id": "5bbd3f30",
   "metadata": {},
   "outputs": [],
   "source": [
    "#conda install -c conda-forge ipython-sql"
   ]
  },
  {
   "cell_type": "code",
   "execution_count": 6,
   "id": "aaddc9d9",
   "metadata": {},
   "outputs": [],
   "source": [
    "# import Modules\n",
    "import sqlite3"
   ]
  },
  {
   "cell_type": "markdown",
   "id": "58563525",
   "metadata": {},
   "source": [
    "## Connexion à une BDD sqlite (création)"
   ]
  },
  {
   "cell_type": "code",
   "execution_count": 8,
   "id": "46f6c550",
   "metadata": {},
   "outputs": [
    {
     "data": {
      "text/plain": [
       "'Connected: @foo.db'"
      ]
     },
     "execution_count": 8,
     "metadata": {},
     "output_type": "execute_result"
    }
   ],
   "source": [
    "%sql sqlite:///foo.db"
   ]
  },
  {
   "cell_type": "code",
   "execution_count": 9,
   "id": "0df686ed",
   "metadata": {},
   "outputs": [],
   "source": [
    "con = sqlite3.connect(\"sakila.db\")"
   ]
  },
  {
   "cell_type": "code",
   "execution_count": 56,
   "id": "0c8ba52f",
   "metadata": {},
   "outputs": [
    {
     "name": "stdout",
     "output_type": "stream",
     "text": [
      "   sqlite:///bddsqlite01.db\n",
      " * sqlite:///foo.db\n",
      "Done.\n"
     ]
    },
    {
     "data": {
      "text/plain": [
       "[]"
      ]
     },
     "execution_count": 56,
     "metadata": {},
     "output_type": "execute_result"
    }
   ],
   "source": [
    "%%sql\n",
    "CREATE TABLE House\n",
    "(\n",
    "  HouseID varchar PRIMARY KEY,\n",
    "  Neighborhood varchar,\n",
    "  OverallCond integer,\n",
    "  YearBuilt integer,\n",
    "  TotalBsmtSF integer,\n",
    "  FirstFlrSF integer,\n",
    "  SecondFlrSF integer,\n",
    "  GrLivArea integer,\n",
    "  BedroomAbvGr integer,\n",
    "  KitchenQual varchar,\n",
    "  GarageCond varchar\n",
    ");"
   ]
  },
  {
   "cell_type": "code",
   "execution_count": 57,
   "id": "d46824d0",
   "metadata": {},
   "outputs": [
    {
     "name": "stdout",
     "output_type": "stream",
     "text": [
      "   sqlite:///bddsqlite01.db\n",
      " * sqlite:///foo.db\n",
      "Done.\n"
     ]
    },
    {
     "data": {
      "text/plain": [
       "[]"
      ]
     },
     "execution_count": 57,
     "metadata": {},
     "output_type": "execute_result"
    }
   ],
   "source": [
    "%%sql\n",
    "CREATE TABLE Sale\n",
    "(\n",
    "  SaleID varchar PRIMARY KEY,\n",
    "  MoSold integer,\n",
    "  YrSold integer,\n",
    "  SalePrice integer\n",
    ");"
   ]
  },
  {
   "cell_type": "code",
   "execution_count": 58,
   "id": "66958cb8",
   "metadata": {},
   "outputs": [
    {
     "name": "stdout",
     "output_type": "stream",
     "text": [
      "   sqlite:///bddsqlite01.db\n",
      " * sqlite:///foo.db\n",
      "Done.\n"
     ]
    },
    {
     "data": {
      "text/plain": [
       "[]"
      ]
     },
     "execution_count": 58,
     "metadata": {},
     "output_type": "execute_result"
    }
   ],
   "source": [
    "%%sql\n",
    "CREATE TABLE Property\n",
    "(\n",
    "  PropertyID varchar PRIMARY KEY,\n",
    "  LotArea integer,\n",
    "  Utilities varchar\n",
    ");"
   ]
  },
  {
   "cell_type": "code",
   "execution_count": null,
   "id": "deed623e",
   "metadata": {},
   "outputs": [],
   "source": []
  }
 ],
 "metadata": {
  "kernelspec": {
   "display_name": "Python 3 (ipykernel)",
   "language": "python",
   "name": "python3"
  },
  "language_info": {
   "codemirror_mode": {
    "name": "ipython",
    "version": 3
   },
   "file_extension": ".py",
   "mimetype": "text/x-python",
   "name": "python",
   "nbconvert_exporter": "python",
   "pygments_lexer": "ipython3",
   "version": "3.9.12"
  }
 },
 "nbformat": 4,
 "nbformat_minor": 5
}
