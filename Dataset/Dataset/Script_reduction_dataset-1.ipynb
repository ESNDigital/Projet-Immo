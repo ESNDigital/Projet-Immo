{
 "cells": [
  {
   "cell_type": "code",
   "execution_count": 1,
   "metadata": {},
   "outputs": [],
   "source": [
    "import pandas as pd"
   ]
  },
  {
   "cell_type": "code",
   "execution_count": 2,
   "metadata": {},
   "outputs": [],
   "source": [
    "full_df = pd.read_csv(r\"C:\\Users\\gkerd\\OneDrive\\Bureau\\Cours et Exercices\\Formation IA\\2ème semaine\\Projet_Digitalisation\\Dataset\\train.csv\")"
   ]
  },
  {
   "cell_type": "code",
   "execution_count": 3,
   "metadata": {},
   "outputs": [],
   "source": [
    "\n",
    "house_column_list = [\"Id\",\"YearBuilt\",\"BedroomAbvGr\",\"TotalBsmtSF\",\"GrLivArea\",\"1stFlrSF\",\"2ndFlrSF\",\"OverallCond\",\"KitchenQual\",\"GarageCond\",\"Neighborhood\" ]\n",
    "sale_column_list = [\"MoSold\",\"YrSold\", \"SalePrice\"]\n"
   ]
  },
  {
   "cell_type": "code",
   "execution_count": 4,
   "metadata": {},
   "outputs": [],
   "source": [
    "property_column_list = [\"LotArea\", \"Utilities\"]\n",
    "property_df = full_df[[x for x in full_df.columns if x in property_column_list]]\n",
    "house_df = full_df[[x for x in full_df.columns if x in house_column_list]]\n",
    "sales_df = full_df[[x for x in full_df.columns if x in sale_column_list]]\n",
    "\t\n"
   ]
  },
  {
   "cell_type": "code",
   "execution_count": 9,
   "metadata": {},
   "outputs": [
    {
     "name": "stderr",
     "output_type": "stream",
     "text": [
      "C:\\Users\\gkerd\\AppData\\Local\\Temp/ipykernel_8108/1933370027.py:1: SettingWithCopyWarning: \n",
      "A value is trying to be set on a copy of a slice from a DataFrame.\n",
      "Try using .loc[row_indexer,col_indexer] = value instead\n",
      "\n",
      "See the caveats in the documentation: https://pandas.pydata.org/pandas-docs/stable/user_guide/indexing.html#returning-a-view-versus-a-copy\n",
      "  property_df[\"Id_ Property\"] = house_df[\"Id\"]\n",
      "C:\\Users\\gkerd\\AppData\\Local\\Temp/ipykernel_8108/1933370027.py:2: SettingWithCopyWarning: \n",
      "A value is trying to be set on a copy of a slice from a DataFrame.\n",
      "Try using .loc[row_indexer,col_indexer] = value instead\n",
      "\n",
      "See the caveats in the documentation: https://pandas.pydata.org/pandas-docs/stable/user_guide/indexing.html#returning-a-view-versus-a-copy\n",
      "  sales_df[\"Id_ Property\"] = house_df[\"Id\"]\n"
     ]
    }
   ],
   "source": [
    "property_df[\"Id_ Property\"] = house_df[\"Id\"]\n",
    "sales_df[\"Id_ Property\"] = house_df[\"Id\"]"
   ]
  },
  {
   "cell_type": "code",
   "execution_count": 25,
   "metadata": {},
   "outputs": [
    {
     "name": "stdout",
     "output_type": "stream",
     "text": [
      "<class 'pandas.core.frame.DataFrame'>\n",
      "RangeIndex: 1460 entries, 0 to 1459\n",
      "Data columns (total 5 columns):\n",
      " #   Column        Non-Null Count  Dtype \n",
      "---  ------        --------------  ----- \n",
      " 0   MoSold        1460 non-null   int64 \n",
      " 1   YrSold        1460 non-null   int64 \n",
      " 2   SalePrice     1460 non-null   int64 \n",
      " 3   Id_ Property  1460 non-null   int64 \n",
      " 4   Id            1460 non-null   object\n",
      "dtypes: int64(4), object(1)\n",
      "memory usage: 57.2+ KB\n"
     ]
    },
    {
     "name": "stderr",
     "output_type": "stream",
     "text": [
      "C:\\Users\\gkerd\\AppData\\Local\\Temp/ipykernel_8108/4169196130.py:3: SettingWithCopyWarning: \n",
      "A value is trying to be set on a copy of a slice from a DataFrame.\n",
      "Try using .loc[row_indexer,col_indexer] = value instead\n",
      "\n",
      "See the caveats in the documentation: https://pandas.pydata.org/pandas-docs/stable/user_guide/indexing.html#returning-a-view-versus-a-copy\n",
      "  sales_df[\"Id\"] =list_index\n"
     ]
    }
   ],
   "source": [
    "list_index = [\"S\"+\"0\"*(5-len(str((i))))+str(i) for i in range(1,sales_df.shape[0]+1)]\n",
    "\n",
    "sales_df[\"Id\"] =list_index\n",
    "\n",
    "sales_df.info()"
   ]
  },
  {
   "cell_type": "code",
   "execution_count": 26,
   "metadata": {},
   "outputs": [
    {
     "name": "stdout",
     "output_type": "stream",
     "text": [
      "<class 'pandas.core.frame.DataFrame'>\n",
      "RangeIndex: 1460 entries, 0 to 1459\n",
      "Data columns (total 4 columns):\n",
      " #   Column        Non-Null Count  Dtype \n",
      "---  ------        --------------  ----- \n",
      " 0   LotArea       1460 non-null   int64 \n",
      " 1   Utilities     1460 non-null   object\n",
      " 2   Id_ Property  1460 non-null   int64 \n",
      " 3   Id            1460 non-null   object\n",
      "dtypes: int64(2), object(2)\n",
      "memory usage: 45.8+ KB\n"
     ]
    },
    {
     "name": "stderr",
     "output_type": "stream",
     "text": [
      "C:\\Users\\gkerd\\AppData\\Local\\Temp/ipykernel_8108/817096819.py:3: SettingWithCopyWarning: \n",
      "A value is trying to be set on a copy of a slice from a DataFrame.\n",
      "Try using .loc[row_indexer,col_indexer] = value instead\n",
      "\n",
      "See the caveats in the documentation: https://pandas.pydata.org/pandas-docs/stable/user_guide/indexing.html#returning-a-view-versus-a-copy\n",
      "  property_df[\"Id\"] =list_index\n"
     ]
    }
   ],
   "source": [
    "list_index = [\"P\"+\"0\"*(5-len(str((i))))+ str(i) for i in range(1,property_df.shape[0]+1)]\n",
    "\n",
    "property_df[\"Id\"] =list_index\n",
    "\n",
    "property_df.info()"
   ]
  },
  {
   "cell_type": "code",
   "execution_count": 27,
   "metadata": {},
   "outputs": [],
   "source": [
    "\n",
    "property_df.to_csv(r\"C:\\Users\\gkerd\\OneDrive\\Bureau\\Cours et Exercices\\Formation IA\\2ème semaine\\Projet_Digitalisation\\Dataset\\property.csv\", index=False)\n",
    "house_df.to_csv(r\"C:\\Users\\gkerd\\OneDrive\\Bureau\\Cours et Exercices\\Formation IA\\2ème semaine\\Projet_Digitalisation\\Dataset\\house.csv\", index=False)\n",
    "sales_df.to_csv(r\"C:\\Users\\gkerd\\OneDrive\\Bureau\\Cours et Exercices\\Formation IA\\2ème semaine\\Projet_Digitalisation\\Dataset\\sales.csv\",index=False)"
   ]
  },
  {
   "cell_type": "code",
   "execution_count": null,
   "metadata": {},
   "outputs": [],
   "source": []
  }
 ],
 "metadata": {
  "kernelspec": {
   "display_name": "Python 3.9.7 ('base')",
   "language": "python",
   "name": "python3"
  },
  "language_info": {
   "codemirror_mode": {
    "name": "ipython",
    "version": 3
   },
   "file_extension": ".py",
   "mimetype": "text/x-python",
   "name": "python",
   "nbconvert_exporter": "python",
   "pygments_lexer": "ipython3",
   "version": "3.9.7"
  },
  "orig_nbformat": 4,
  "vscode": {
   "interpreter": {
    "hash": "ff8e42e0991f17a1919b04a8858326e2d69de7398ad071dab783899f633a62a5"
   }
  }
 },
 "nbformat": 4,
 "nbformat_minor": 2
}
